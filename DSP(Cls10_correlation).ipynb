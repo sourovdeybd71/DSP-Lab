{
  "cells": [
    {
      "cell_type": "code",
      "execution_count": null,
      "id": "fa506c93",
      "metadata": {
        "id": "fa506c93",
        "outputId": "c23f18bb-9b31-4c93-eb88-2117236fd61d"
      },
      "outputs": [
        {
          "name": "stdout",
          "output_type": "stream",
          "text": [
            "[-1. -1.  1.  7.  9.  5.  1.]\n"
          ]
        }
      ],
      "source": [
        "#cross-correlation:\n",
        "\n",
        "import numpy as np\n",
        "import matplotlib.pyplot as plt\n",
        "\n",
        "def cor(x,h):\n",
        "    lx = len(x)\n",
        "    lh = len(h)\n",
        "    y = np.zeros((lx+lh-1))\n",
        "\n",
        "    for m in range(lx):\n",
        "       for n in range(lh): \n",
        "            y[m+n] = y[m+n] + x[m]*h[n]\n",
        "    return y\n",
        "x = [1,2,3,1]\n",
        "h = [1,2,1,-1]\n",
        "\n",
        "y = cor(x,np.flip(h))\n",
        "print(y)"
      ]
    },
    {
      "cell_type": "code",
      "execution_count": null,
      "id": "65845e3b",
      "metadata": {
        "id": "65845e3b",
        "outputId": "8969ffe8-573d-4472-8ba1-a9d66b7f0b18"
      },
      "outputs": [
        {
          "name": "stdout",
          "output_type": "stream",
          "text": [
            "[-1 -1  1  7  9  5  1]\n"
          ]
        }
      ],
      "source": [
        "z = np.correlate(x,h, 'full')\n",
        "print(z)"
      ]
    },
    {
      "cell_type": "code",
      "execution_count": null,
      "id": "88581627",
      "metadata": {
        "id": "88581627",
        "outputId": "dbce47e1-5ac7-484a-e08a-f3d3fac736ba"
      },
      "outputs": [
        {
          "name": "stdout",
          "output_type": "stream",
          "text": [
            "[-1. -1.  1.  7.  9.  5.  1.]\n",
            "[-1 -1  1  7  9  5  1]\n"
          ]
        }
      ],
      "source": [
        "def crosscorr(x,h):\n",
        "    lx = len(x)\n",
        "    h = np.flip(h)\n",
        "    lh = len(h)\n",
        "    y = np.zeros((lx+lh-1))\n",
        "\n",
        "    for m in range(lx):\n",
        "       for n in range(lh): \n",
        "            y[m+n] = y[m+n] + x[m]*h[n]\n",
        "    return y\n",
        "x = [1,2,3,1]\n",
        "y = [1,2,1,-1]\n",
        "\n",
        "rxy = crosscorr(x,y)\n",
        "print(rxy)\n",
        "\n",
        "z = np.correlate(x,y, 'full')\n",
        "print(z)"
      ]
    },
    {
      "cell_type": "code",
      "execution_count": null,
      "id": "bce8cd02",
      "metadata": {
        "id": "bce8cd02"
      },
      "outputs": [],
      "source": []
    },
    {
      "cell_type": "code",
      "execution_count": null,
      "id": "29e05145",
      "metadata": {
        "id": "29e05145",
        "outputId": "6b9eb831-8c13-4d4c-cf7e-6374e79a4e2e"
      },
      "outputs": [
        {
          "name": "stdout",
          "output_type": "stream",
          "text": [
            "[ 1.  5. 11. 15. 11.  5.  1.]\n"
          ]
        }
      ],
      "source": [
        "#auto-correlation:\n",
        "\n",
        "import numpy as np\n",
        "import matplotlib.pyplot as plt\n",
        "\n",
        "def conv(x,h):\n",
        "    lx = len(x)\n",
        "    lh = len(h)\n",
        "    y = np.zeros((lx+lh-1))\n",
        "\n",
        "    for m in range(lx):\n",
        "       for n in range(lh): \n",
        "            y[m+n] = y[m+n] + x[m]*h[n]\n",
        "    return y\n",
        "x = [1,2,3,1]\n",
        "h = [1,2,1,-1]\n",
        "\n",
        "y = conv(x,np.flip(x))\n",
        "print(y)"
      ]
    },
    {
      "cell_type": "code",
      "execution_count": null,
      "id": "2c5cf916",
      "metadata": {
        "id": "2c5cf916",
        "outputId": "a7a6c70f-6126-44e3-9020-3c98ea02b65e"
      },
      "outputs": [
        {
          "name": "stdout",
          "output_type": "stream",
          "text": [
            "[ 1  5 11 15 11  5  1]\n"
          ]
        }
      ],
      "source": [
        "z = np.correlate(x,x, 'full')\n",
        "print(z)"
      ]
    },
    {
      "cell_type": "code",
      "execution_count": null,
      "id": "6721a31f",
      "metadata": {
        "id": "6721a31f"
      },
      "outputs": [],
      "source": []
    }
  ],
  "metadata": {
    "kernelspec": {
      "display_name": "Python 3 (ipykernel)",
      "language": "python",
      "name": "python3"
    },
    "language_info": {
      "codemirror_mode": {
        "name": "ipython",
        "version": 3
      },
      "file_extension": ".py",
      "mimetype": "text/x-python",
      "name": "python",
      "nbconvert_exporter": "python",
      "pygments_lexer": "ipython3",
      "version": "3.9.13"
    },
    "colab": {
      "provenance": []
    }
  },
  "nbformat": 4,
  "nbformat_minor": 5
}