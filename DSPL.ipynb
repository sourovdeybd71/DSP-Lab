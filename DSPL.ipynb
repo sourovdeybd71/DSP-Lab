{
  "cells": [
    {
      "cell_type": "code",
      "execution_count": null,
      "id": "997cbb70",
      "metadata": {
        "id": "997cbb70",
        "outputId": "5b986435-3d70-4a39-e113-a2757e43b580"
      },
      "outputs": [
        {
          "name": "stdout",
          "output_type": "stream",
          "text": [
            "[ 1.  4.  8.  8.  3. -2. -1.]\n"
          ]
        }
      ],
      "source": [
        "#convolve Sum:\n",
        "\n",
        "import numpy as np\n",
        "import matplotlib.pyplot as plt\n",
        "x = [1,2,3,1]\n",
        "h = [1,2,1,-1]\n",
        "lx = len(x)\n",
        "lh = len(h)\n",
        "y = np.zeros((lx+lh-1))\n",
        "\n",
        "for m in range(lx):\n",
        "   for n in range(lh): \n",
        "        y[m+n] = y[m+n] + x[m]*h[n]\n",
        "print(y)"
      ]
    },
    {
      "cell_type": "code",
      "execution_count": null,
      "id": "4d7caa0d",
      "metadata": {
        "id": "4d7caa0d",
        "outputId": "636e83bb-701d-49ff-de93-28f6a36ace64"
      },
      "outputs": [
        {
          "name": "stdout",
          "output_type": "stream",
          "text": [
            "[ 1  4  8  8  3 -2 -1]\n"
          ]
        }
      ],
      "source": [
        "z = np.convolve(x,h, 'full')\n",
        "print(z)"
      ]
    },
    {
      "cell_type": "code",
      "execution_count": null,
      "id": "178533e3",
      "metadata": {
        "id": "178533e3",
        "outputId": "f163ce0a-77f3-4ca0-a84c-29e8d11a0a6e"
      },
      "outputs": [
        {
          "name": "stdout",
          "output_type": "stream",
          "text": [
            "[ 1.  4.  8.  8.  3. -2. -1.]\n"
          ]
        }
      ],
      "source": [
        "#convolve Sum using function:\n",
        "\n",
        "def conv(x,h):\n",
        "    lx = len(x)\n",
        "    lh = len(h)\n",
        "    y = np.zeros((lx+lh-1))\n",
        "\n",
        "    for m in range(lx):\n",
        "       for n in range(lh): \n",
        "            y[m+n] = y[m+n] + x[m]*h[n]\n",
        "    return y\n",
        "x = [1,2,3,1]\n",
        "h = [1,2,1,-1]\n",
        "\n",
        "y = conv(x,h)\n",
        "print(y)"
      ]
    },
    {
      "cell_type": "code",
      "execution_count": null,
      "id": "c4069c8f",
      "metadata": {
        "id": "c4069c8f"
      },
      "outputs": [],
      "source": []
    }
  ],
  "metadata": {
    "kernelspec": {
      "display_name": "Python 3 (ipykernel)",
      "language": "python",
      "name": "python3"
    },
    "language_info": {
      "codemirror_mode": {
        "name": "ipython",
        "version": 3
      },
      "file_extension": ".py",
      "mimetype": "text/x-python",
      "name": "python",
      "nbconvert_exporter": "python",
      "pygments_lexer": "ipython3",
      "version": "3.9.13"
    },
    "colab": {
      "provenance": []
    }
  },
  "nbformat": 4,
  "nbformat_minor": 5
}