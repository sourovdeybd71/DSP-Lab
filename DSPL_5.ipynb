{
  "cells": [
    {
      "cell_type": "code",
      "execution_count": null,
      "id": "92f42033",
      "metadata": {
        "id": "92f42033",
        "outputId": "0fb79741-5238-4c3e-94a0-82d88fff5235"
      },
      "outputs": [
        {
          "name": "stdout",
          "output_type": "stream",
          "text": [
            "[ 1.  4.  8.  8.  3. -2. -1.]\n",
            "[1. 2. 3. 1.]\n",
            "[ 1.  4.  8.  8.  3. -2. -1.]\n",
            "[ 1.  6. 17. 30. 35. 28. 14.  2. -5. -2.]\n",
            "[  1.   8.  30.  69. 106. 111.  75.  23. -15. -24. -11.   3.   2.]\n",
            "[ 1.  6. 17. 30. 35. 28. 14.  2. -5. -2.]\n",
            "[ 1.  6. 17. 30. 35. 28. 14.  2. -5. -2.]\n"
          ]
        }
      ],
      "source": [
        "import numpy as np\n",
        "import matplotlib.pyplot as plt\n",
        "\n",
        "def conv(x,h):\n",
        "    lx = len(x)\n",
        "    lh = len(h)\n",
        "    y = np.zeros((lx+lh-1))\n",
        "\n",
        "    for m in range(lx):\n",
        "       for n in range(lh): \n",
        "            y[m+n] = y[m+n] + x[m]*h[n]\n",
        "    return y\n",
        "\n",
        "x=[1,2,3,1]\n",
        "h=[1,2,1,-1]\n",
        "y= conv(x,h)\n",
        "print(y)\n",
        "\n",
        "d= np.zeros(1)\n",
        "d[0]=1\n",
        "\n",
        "# Identity law:\n",
        "yi=conv(x,d)\n",
        "print(yi)\n",
        "\n",
        "# Commutative law:\n",
        "yc= conv(h,x)\n",
        "print(yc)\n",
        "\n",
        "# Associative law:\n",
        "h2=[1,2,1,2]\n",
        "yd3= conv(h,h2)\n",
        "ya= conv(yc,h2)\n",
        "print(ya)\n",
        "\n",
        "ya2= conv(y,yd3)\n",
        "print(ya2)\n",
        "\n",
        "# Distributive law:\n",
        "yd= conv(y,h2)\n",
        "print(yd)\n",
        "\n",
        "yd3= conv(h,h2)\n",
        "yd2= conv(x,yd3)\n",
        "print(yd2)"
      ]
    },
    {
      "cell_type": "code",
      "execution_count": null,
      "id": "7d279b74",
      "metadata": {
        "id": "7d279b74",
        "outputId": "19972e6d-6ec4-46e0-e42e-65b6d307745d"
      },
      "outputs": [
        {
          "name": "stdout",
          "output_type": "stream",
          "text": [
            "[ 1.  4.  8.  8.  3. -2. -1.]\n",
            "[1. 2. 3. 1.]\n",
            "[ 1.  4.  8.  8.  3. -2. -1.]\n",
            "[ 1.  6. 17. 30. 35. 28. 14.  2. -5. -2.]\n",
            "[ 1.  6. 17. 30. 35. 28. 14.  2. -5. -2.]\n",
            "[ 1.  6. 17. 30. 35. 28. 14.  2. -5. -2.]\n",
            "[ 1.  6. 17. 30. 35. 28. 14.  2. -5. -2.]\n"
          ]
        }
      ],
      "source": [
        "import numpy as np\n",
        "import matplotlib.pyplot as plt\n",
        "\n",
        "def conv(x,h):\n",
        "    lx = len(x)\n",
        "    lh = len(h)\n",
        "    y = np.zeros((lx+lh-1))\n",
        "\n",
        "    for m in range(lx):\n",
        "       for n in range(lh): \n",
        "            y[m+n] = y[m+n] + x[m]*h[n]\n",
        "    return y\n",
        "\n",
        "x=[1,2,3,1]\n",
        "h=[1,2,1,-1]\n",
        "y= conv(x,h)\n",
        "print(y)\n",
        "\n",
        "d= np.zeros(1)\n",
        "d[0]=1\n",
        "\n",
        "# Identity law:\n",
        "yi=conv(x,d)\n",
        "print(yi)\n",
        "\n",
        "# Commutative law:\n",
        "yc= conv(h,x)\n",
        "print(yc)\n",
        "\n",
        "# Associative law:\n",
        "h2=[1,2,1,2]\n",
        "ya= conv(yc,h2)\n",
        "print(ya)\n",
        "\n",
        "ya2= conv(h2,yc)\n",
        "print(ya2)\n",
        "\n",
        "# Distributive law:\n",
        "yd= conv(y,h2)\n",
        "print(yd)\n",
        "\n",
        "yd3= conv(h,h2)\n",
        "yd2= conv(x,yd3)\n",
        "print(yd2)"
      ]
    },
    {
      "cell_type": "code",
      "execution_count": null,
      "id": "e2ac7b1b",
      "metadata": {
        "id": "e2ac7b1b"
      },
      "outputs": [],
      "source": []
    }
  ],
  "metadata": {
    "kernelspec": {
      "display_name": "Python 3 (ipykernel)",
      "language": "python",
      "name": "python3"
    },
    "language_info": {
      "codemirror_mode": {
        "name": "ipython",
        "version": 3
      },
      "file_extension": ".py",
      "mimetype": "text/x-python",
      "name": "python",
      "nbconvert_exporter": "python",
      "pygments_lexer": "ipython3",
      "version": "3.9.13"
    },
    "colab": {
      "provenance": []
    }
  },
  "nbformat": 4,
  "nbformat_minor": 5
}